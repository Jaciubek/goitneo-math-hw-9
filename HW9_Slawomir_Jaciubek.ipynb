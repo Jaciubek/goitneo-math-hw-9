{
  "nbformat": 4,
  "nbformat_minor": 0,
  "metadata": {
    "colab": {
      "provenance": []
    },
    "kernelspec": {
      "name": "python3",
      "display_name": "Python 3"
    },
    "language_info": {
      "name": "python"
    }
  },
  "cells": [
    {
      "cell_type": "markdown",
      "source": [
        "***Homework description***\n",
        "\n",
        "You have purchased the company where you once worked. The company is barely making ends meet, although its processes are well-established. After analyzing them, you realized that the services offered by the company are not optimal. Currently, the company provides three different services, with uneven income, and due to a lack of focus on the most profitable product, the company is missing out on profit.\n",
        "\n",
        "You have already optimized the company's operations by choosing the set of services that bring the most profit, considering the team's capabilities. Your current task is to formulate an optimization problem for the development process in the company under the following conditions.\n",
        "\n",
        "The process involves designers, developers, and testers. There are two designers in the company, each with a workload of 160 hours per month. There are also two programmers, but their total time is only 192 hours. There is one tester who works overtime for 180 hours.\n",
        "\n",
        "The company can create websites, online stores, and integrations with ERP. The cost of services and the time spent by specialists on each type of work are as follows:\n",
        "\n",
        "<table><tr><td class=\"selected\" style=\"text-align: center; color: rgb(28, 30, 33); vertical-align: top;\"><div class=\"wrap\" style=\"\"><div style=\"margin: 10px 5px;\" class=\"\" contenteditable=\"false\"><p><span style=\"background-color: var(--ifm-table-head-background); color: var(--ifm-table-head-color); font-weight: var(--ifm-table-head-font-weight);\">Type of work</span></p></div></div></td><td style=\"text-align: center; color: rgb(28, 30, 33); vertical-align: top;\" class=\"selected\"><div class=\"wrap\" style=\"\"><div style=\"margin: 10px 5px;\" class=\"\" contenteditable=\"false\"><p><span style=\"background-color: var(--ifm-table-head-background); color: var(--ifm-table-head-color); font-weight: var(--ifm-table-head-font-weight);\">Designers</span></p></div></div></td><td style=\"text-align: center; color: rgb(28, 30, 33); vertical-align: top;\" class=\"selected\"><div class=\"wrap\" style=\"\"><div style=\"margin: 10px 5px;\"><p><span style=\"background-color: var(--ifm-table-head-background); color: var(--ifm-table-head-color); font-weight: var(--ifm-table-head-font-weight);\">Developers</span></p></div></div></td><td style=\"text-align: center; color: rgb(28, 30, 33); vertical-align: top;\" class=\"selected\"><div class=\"wrap\" style=\"\"><div style=\"margin: 10px 5px;\"><p><span style=\"background-color: var(--ifm-table-head-background); color: var(--ifm-table-head-color); font-weight: var(--ifm-table-head-font-weight);\">Testers</span></p></div></div></td><td style=\"text-align: center; color: rgb(28, 30, 33); vertical-align: top;\" class=\"selected\"><div class=\"wrap\" style=\"\"><div style=\"margin: 10px 5px;\"><p><span style=\"background-color: var(--ifm-table-head-background); color: var(--ifm-table-head-color); font-weight: var(--ifm-table-head-font-weight);\">Service cost, $1000s</span></p></div></div></td></tr><tr><td style=\"text-align: start; color: rgb(28, 30, 33); vertical-align: top;\" class=\"selected\"><div class=\"wrap\" style=\"\"><div style=\"margin: 10px 5px;\"><p><span style=\"color: var(--ifm-table-cell-color);\">Sites</span></p></div></div></td><td style=\"text-align: start; color: rgb(28, 30, 33); vertical-align: top;\" class=\"selected\"><div class=\"wrap\" style=\"\"><div style=\"margin: 10px 5px;\"><p><span style=\"color: var(--ifm-table-cell-color);\">12 hours</span></p></div></div></td><td style=\"text-align: start; color: rgb(28, 30, 33); vertical-align: top;\" class=\"selected\"><div class=\"wrap\" style=\"\"><div style=\"margin: 10px 5px;\"><p><span style=\"color: var(--ifm-table-cell-color);\">12 hours</span></p></div></div></td><td style=\"text-align: start; color: rgb(28, 30, 33); vertical-align: top;\" class=\"selected\"><div class=\"wrap\" style=\"\"><div style=\"margin: 10px 5px;\"><p><span style=\"color: var(--ifm-table-cell-color);\">12 hours</span></p></div></div></td><td style=\"text-align: start; color: rgb(28, 30, 33); vertical-align: top;\" class=\"selected\"><div class=\"wrap\" style=\"\"><div style=\"margin: 10px 5px;\"><p><span style=\"color: var(--ifm-table-cell-color);\">2</span></p></div></div></td></tr><tr><td style=\"text-align: start; color: rgb(28, 30, 33); vertical-align: top;\" class=\"selected\"><div class=\"wrap\" style=\"\"><div style=\"margin: 10px 5px;\"><p><span style=\"color: var(--ifm-table-cell-color);\">Online stores</span></p></div></div></td><td style=\"text-align: start; color: rgb(28, 30, 33); vertical-align: top;\" class=\"selected\"><div class=\"wrap\" style=\"\"><div style=\"margin: 10px 5px;\"><p><span style=\"color: var(--ifm-table-cell-color);\">6 hours</span></p></div></div></td><td style=\"text-align: start; color: rgb(28, 30, 33); vertical-align: top;\" class=\"selected\"><div class=\"wrap\" style=\"\"><div style=\"margin: 10px 5px;\"><p><span style=\"color: var(--ifm-table-cell-color);\">24 hours</span></p></div></div></td><td style=\"text-align: start; color: rgb(28, 30, 33); vertical-align: top;\" class=\"selected\"><div class=\"wrap\" style=\"\"><div style=\"margin: 10px 5px;\"><p><span style=\"color: var(--ifm-table-cell-color);\">18 hours</span></p></div></div></td><td style=\"text-align: start; color: rgb(28, 30, 33); vertical-align: top;\" class=\"selected\"><div class=\"wrap\" style=\"\"><div style=\"margin: 10px 5px;\"><p><span style=\"color: var(--ifm-table-cell-color);\">9</span></p></div></div></td></tr><tr><td style=\"text-align: start; color: rgb(28, 30, 33); vertical-align: top;\" class=\"selected\"><div class=\"wrap\" style=\"\"><div style=\"margin: 10px 5px;\"><p><span style=\"color: var(--ifm-table-cell-color);\">Integration with ERP</span></p></div></div></td><td style=\"text-align: start; color: rgb(28, 30, 33); vertical-align: top;\" class=\"selected\"><div class=\"wrap\" style=\"\"><div style=\"margin: 10px 5px;\"><p><span style=\"color: var(--ifm-table-cell-color);\">2 hours</span></p></div></div></td><td style=\"text-align: start; color: rgb(28, 30, 33); vertical-align: top;\" class=\"selected\"><div class=\"wrap\" style=\"\"><div style=\"margin: 10px 5px;\"><p><span style=\"color: var(--ifm-table-cell-color);\">18 hours</span></p></div></div></td><td style=\"text-align: start; color: rgb(28, 30, 33); vertical-align: top;\" class=\"selected\"><div class=\"wrap\" style=\"\"><div style=\"margin: 10px 5px;\"><p><span style=\"color: var(--ifm-table-cell-color);\">12 hours</span></p></div></div></td><td style=\"text-align: start; color: rgb(28, 30, 33); vertical-align: top;\" class=\"selected\"><div class=\"wrap\" style=\"\"><div style=\"margin: 10px 5px;\"><p><span style=\"color: var(--ifm-table-cell-color);\">6</span></p></div></div></td></tr></table>\n",
        "\n",
        "\n",
        "Find out which services are more profitable to provide to maximize profit."
      ],
      "metadata": {
        "id": "v5h6yjw85sVZ"
      }
    },
    {
      "cell_type": "markdown",
      "source": [
        " ***1) Formulating a target income function based on the cost of services.***\n",
        "\n",
        "a) Variables:\n",
        "\n",
        "sites - the number of website projects\n",
        "\n",
        "stores - the number of online store projects\n",
        "\n",
        "erp_integr - the number of ERP integration projects\n",
        "\n",
        "b) Objective function:\n",
        "\n",
        "Z = 2000 * sities + 9000 * stores + 6000 * erp_integr\n",
        "\n",
        "***2) Condition-based bonding system***\n",
        "\n",
        "a) Designers' constraint (2 designers with a total of 320 hours per month):\n",
        "\n",
        "12 * sities + 6 stores + 2 * erp_integr <= 320\n",
        "\n",
        "b) Developers' constraint (2 developers with a total of 192 hours per month):\n",
        "\n",
        "12 * sities + 6 stores + 2 * erp_integr <= 192\n",
        "\n",
        "c) Testers' constraint (1 tester with 180 hours per month):\n",
        "\n",
        "12 * sities + 6 stores + 2 * erp_integr <= 180\n",
        "\n",
        "d) Non-negativity constraint:\n",
        "\n",
        "sities, stores, erp_integr >= 0\n",
        "\n",
        "***3) Finding optimal service distribution using SciPy library. Calculation of the company's total monthly income with optimal distribution of functionsFinding the optimal distribution of services using the SciPy library. Calculation of the company's total monthly income with optimal distribution of functions***"
      ],
      "metadata": {
        "id": "lBBZyDiEJU50"
      }
    },
    {
      "cell_type": "code",
      "execution_count": 4,
      "metadata": {
        "colab": {
          "base_uri": "https://localhost:8080/"
        },
        "id": "Uu7RA3WV3poq",
        "outputId": "00418957-a411-4472-9e7c-9c9cf261fed7"
      },
      "outputs": [
        {
          "output_type": "stream",
          "name": "stdout",
          "text": [
            "Optimal quantity of websites: 0.0\n",
            "Optimal quantity of online stores: 8.0\n",
            "Optimal quantity of ERP integrations: 0.0\n",
            "Maximum profit: 72.0k $\n"
          ]
        }
      ],
      "source": [
        "import numpy as np\n",
        "from scipy.optimize import linprog\n",
        "\n",
        "# Coefficients of the objective function (negative because linprog performs minimization)\n",
        "c = [-2, -9, -6]\n",
        "\n",
        "# Coefficients constraints\n",
        "A = [\n",
        "    [12, 6, 2],\n",
        "    [12, 24, 18],\n",
        "    [12, 18, 12]\n",
        "]\n",
        "\n",
        "# Right-hand side constraints\n",
        "b = [320, 192, 180]\n",
        "\n",
        "# Bounds for the variables (all variables must be non-negative)\n",
        "x_bounds = (0, None)\n",
        "bounds = [x_bounds, x_bounds, x_bounds]\n",
        "\n",
        "# Solving the linear programming problem\n",
        "result = linprog(c, A_ub=A, b_ub=b, bounds=bounds, method='highs')\n",
        "\n",
        "# Printing the result\n",
        "print(\"Optimal quantity of websites:\", result.x[0])\n",
        "print(\"Optimal quantity of online stores:\", result.x[1])\n",
        "print(\"Optimal quantity of ERP integrations:\", result.x[2])\n",
        "print(f\"Maximum profit: {-result.fun}k $\")"
      ]
    },
    {
      "cell_type": "markdown",
      "source": [
        "***4) Conclusions*** - Optimization completed successfully. To obtain maximum income worth $72,000, 8 online store projects need to be completed. Abandon the remaining projects.\n",
        "\n"
      ],
      "metadata": {
        "id": "KrLZYc5mQYW_"
      }
    }
  ]
}